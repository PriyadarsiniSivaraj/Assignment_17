{
 "cells": [
  {
   "cell_type": "markdown",
   "metadata": {},
   "source": [
    "# ASSIGNMENT 17"
   ]
  },
  {
   "cell_type": "code",
   "execution_count": 1,
   "metadata": {},
   "outputs": [
    {
     "name": "stdout",
     "output_type": "stream",
     "text": [
      "Type in the value of the population mean(μ1): 100\n",
      "Type in the value of the sample mean(μo): 108\n",
      "Raw cornstarch had a positive effect on the blood glucose levels\n"
     ]
    }
   ],
   "source": [
    "# Q1 Blood glucose levels for obese patients have a mean of 100 with a standard deviation of\n",
    "# 15. A researcher thinks that a diet high in raw cornstarch will have a positive effect on\n",
    "# blood glucose levels. A sample of 36 patients who have tried the raw cornstarch diet\n",
    "# have a mean glucose level of 108. Test the hypothesis that the raw cornstarch had an\n",
    "# effect or not.\n",
    "'''\n",
    "Defining Null Hypothesis: statement that assumes that there is \"NO\" difference between two sets of values \n",
    "     \n",
    "Null Hypothesis:Raw cornstarch had no effect when\n",
    "     \n",
    "             Ho: μ1 = μo \n",
    "\n",
    "i.e., population mean being equal to the hypothesised mean\n",
    "\n",
    "Defining Alternate Hypothesis: used in hypothesis testing that is contrary to the null hypothesis.\n",
    "\n",
    "Alternate Hypothesis:Raw cornstarch has an effect when\n",
    "      \n",
    "              Ha: μ1 ≠ μo\n",
    "GIVEN:\n",
    "Population Mean = μ1 = 100\n",
    "Sample Mean = μo = 108\n",
    "Sample size = 36\n",
    "\n",
    "Evidently, in this case:\n",
    "            μ1 ≠ μo\n",
    "Since the value is inconsistent with the Null Hypothesis, we reject the null hypothesis and infer that the Alternate Hypothesis \n",
    "is true.\n",
    "In this case the alternate hypothesis is that, the raw cornstarch had a positive effect on the blood glucose levels.\n",
    "\n",
    "'''\n",
    "μ1 = input(\"Type in the value of the population mean(μ1): \")\n",
    "μo = input(\"Type in the value of the sample mean(μo): \")\n",
    "if (μ1 == μo):\n",
    "    print(\"Raw cornstarch had no effect on the blood glucose levels\")\n",
    "else:\n",
    "    print(\"Raw cornstarch had a positive effect on the blood glucose levels\")"
   ]
  },
  {
   "cell_type": "code",
   "execution_count": 3,
   "metadata": {},
   "outputs": [
    {
     "name": "stdout",
     "output_type": "stream",
     "text": [
      "The value of Zx1 - x2 is -0.708\n",
      "The probability that the survey will show a greater percentage of Republican voters in the second state than in the first state is 0.24 \n"
     ]
    }
   ],
   "source": [
    "# Q2. In one state, 52% of the voters are Republicans, and 48% are Democrats. In a second\n",
    "# state, 47% of the voters are Republicans, and 53% are Democrats. Suppose a simple\n",
    "# random sample of 100 voters are surveyed from each state.\n",
    "# What is the probability that the survey will show a greater percentage of Republican\n",
    "# voters in the second state than in the first state?\n",
    "\n",
    "'''\n",
    "Let,\n",
    "X1 - The proportion of Republican voters in the first state  = 52%\n",
    "Y1 - The proportion of Democratic voters in the first state  = 48%((1 - X1))\n",
    "X2 - The proportion of Republican voters in the second state = 47%\n",
    "Y2 - The proportion of Democratic voters in the second state  = 53%((1 - X2))\n",
    "x1 - The proportion of Republican voters in the sample from the first state\n",
    "x2 - The proportion of Republican voters in the sample from the second state\n",
    "n1 - Sample size from the first state  = 100\n",
    "n1 - Sample size from the second state = 100\n",
    "\n",
    "Determining the sample size\n",
    "n1X1     = 100*0.52 = 52 \n",
    "n1Y1 = 100*0.48 = 48 \n",
    "n2X2 = 100*0.47 = 47\n",
    "n2Y2 = 100*0.53 = 53\n",
    "\n",
    "Since the sample size is >30 we can go for the normal distribution.\n",
    "We need to find the probability that the survey will show a greater percentage of Republican\n",
    "voters in the second state than in the first state,i.e.,\n",
    "            x2>x1 or in other words x1<x2\n",
    "            x1-x2<0\n",
    "Hence, by Sampling Distribution:\n",
    "\n",
    "mean of the difference in sample proportions μ x1 - x2 = X1-X2 = 0.52 - 0.47 = 0.05\n",
    "\n",
    "Standard deviation of binomial distribution = σp = √[pq/n] where q=1-p\n",
    "\n",
    "Thus finding th Standard Deviation of the difference;\n",
    "σd = sqrt{ [ X1(1 - X1) / n1 ] + [ X2(1 - X2) / n2 ] } \n",
    "\n",
    "z x1 - x2 = (x - μ x1 - x2 ) / σd\n",
    "\n",
    "Having found out the z-value, we need to find the area covered to determine the probability.\n",
    "\n",
    "'''\n",
    "X1 = 0.52\n",
    "X2 = 0.47\n",
    "n1 = 100\n",
    "n2 = 100\n",
    "\n",
    "import scipy.stats as st\n",
    "import math\n",
    "# Defining a function to find the Standard_Deviation\n",
    "def std_dev(P1,P2,n1,n2):\n",
    "    sd = math.sqrt((P1*(1-P1))/n1+(P2*(1-P2))/n2)\n",
    "    return sd\n",
    "# Defining a function to calculate z-value\n",
    "def z_calc(x,μ,σ):\n",
    "    z = float(round((x-μ)/σ,3))\n",
    "    return z\n",
    "σ = round(std_dev(0.52,0.47,100,100),4) \n",
    "x = 0\n",
    "μ = 0.05\n",
    "z = z_calc(x,μ,σ)\n",
    "\n",
    "\n",
    "print(\"The value of Zx1 - x2 is {0}\".format(z))\n",
    "# To find the probability/area under the graph we use Cumulative Distribution function\n",
    "cdf = round(st.norm.cdf(z),2)\n",
    "print(\"The probability that the survey will show a greater percentage of Republican \\\n",
    "voters in the second state than in the first state is {} \".format(cdf))"
   ]
  },
  {
   "cell_type": "code",
   "execution_count": 4,
   "metadata": {},
   "outputs": [
    {
     "name": "stdout",
     "output_type": "stream",
     "text": [
      "The value of z: 0.35\n",
      "Hence the performance was better than 63.68000000000001 % of the students\n"
     ]
    }
   ],
   "source": [
    "# Q3. You take the SAT and score 1100. The mean score for the SAT is 1026 and the standard\n",
    "# deviation is 209. How well did you score on the test compared to the average test taker?\n",
    "'''\n",
    "z = x-μ/σ\n",
    "\n",
    "GIVEN:\n",
    "x = 1100\n",
    "μ = 1026\n",
    "σ = 209\n",
    "\n",
    "We need to look at the Z table to know about the performance.\n",
    "\n",
    "'''\n",
    "def z_calc(x,μ,σ):\n",
    "    z = float(round((x-μ)/σ,2))\n",
    "    return z\n",
    "\n",
    "print(\"The value of z:\",z_calc(1100,1026,209))\n",
    "\n",
    "# To find the probability/area under the graph we use Cumulative Distribution function\n",
    "import scipy.stats as st\n",
    "cdf = round(st.norm.cdf(z_calc(1100,1026,209)),4)\n",
    "# Expressing in %\n",
    "prcnt = cdf*100\n",
    "                  \n",
    "# perc = round(st.norm.cdf(z_calc(1100,1026,209)),4)*100\n",
    "print(\"Hence the performance was better than {0} % of the students\".format(prcnt))"
   ]
  }
 ],
 "metadata": {
  "kernelspec": {
   "display_name": "Python 3",
   "language": "python",
   "name": "python3"
  },
  "language_info": {
   "codemirror_mode": {
    "name": "ipython",
    "version": 3
   },
   "file_extension": ".py",
   "mimetype": "text/x-python",
   "name": "python",
   "nbconvert_exporter": "python",
   "pygments_lexer": "ipython3",
   "version": "3.6.5"
  }
 },
 "nbformat": 4,
 "nbformat_minor": 2
}
